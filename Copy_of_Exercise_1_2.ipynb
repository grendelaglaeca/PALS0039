{
  "nbformat": 4,
  "nbformat_minor": 0,
  "metadata": {
    "colab": {
      "name": "Copy of Exercise_1_2.ipynb",
      "private_outputs": true,
      "provenance": [],
      "collapsed_sections": [],
      "include_colab_link": true
    },
    "kernelspec": {
      "name": "python3",
      "display_name": "Python 3"
    }
  },
  "cells": [
    {
      "cell_type": "markdown",
      "metadata": {
        "id": "view-in-github",
        "colab_type": "text"
      },
      "source": [
        "<a href=\"https://colab.research.google.com/github/grendelaglaeca/PALS0039/blob/master/Copy_of_Exercise_1_2.ipynb\" target=\"_parent\"><img src=\"https://colab.research.google.com/assets/colab-badge.svg\" alt=\"Open In Colab\"/></a>"
      ]
    },
    {
      "cell_type": "markdown",
      "metadata": {
        "id": "jdmFw9SarIew"
      },
      "source": [
        "[![PALS0039 Logo](https://www.phon.ucl.ac.uk/courses/pals0039/images/pals0039logo.png)](https://www.phon.ucl.ac.uk/courses/pals0039/)\n",
        "\n",
        "#Exercise 1.2 Practice with Numpy\n",
        "\n",
        "In this exercise we practise using the Numpy library to manipulate vectors and matrices of numbers."
      ]
    },
    {
      "cell_type": "markdown",
      "metadata": {
        "id": "fn8EWOuATNXQ"
      },
      "source": [
        ""
      ]
    },
    {
      "cell_type": "markdown",
      "metadata": {
        "id": "SmVYuO9PrOsP"
      },
      "source": [
        "(a) Use numpy to generate a list of the integers 1-100, then find the sum, mean and sum of squares of the list.\r\n",
        "\r\n",
        "**Hint:** You will need to import the numpy library. You can create a sequence of numbers with the **range()** function. You can use the built in numpy methods for calculations."
      ]
    },
    {
      "cell_type": "code",
      "metadata": {
        "id": "BNsDs20ErEIu"
      },
      "source": [
        "import numpy as np\r\n",
        "\r\n",
        "a = np.arange(1000)\r\n",
        "\r\n",
        "print(\"Sum of all elements: \", a.sum())\r\n",
        "print(\"Mean: \", a.mean())\r\n",
        "print(\"Sum of squares: \", (a*a).sum())\r\n"
      ],
      "execution_count": null,
      "outputs": []
    },
    {
      "cell_type": "markdown",
      "metadata": {
        "id": "pmiylYO1r4YI"
      },
      "source": [
        "---\n",
        "(b) Use numpy to generate a list of 100 pseudo-random numbers from a uniform distribution between 0 and 1. You can use the functions in <tt>numpy.random</tt> for this. Find the smallest value in the list. Find the largest value in the list. Report the 25th, 50th and 75th percentiles of the values in the list.\n",
        "\n",
        "**Hint:** You will need to use some of the [numpy functions for statistics](https://docs.scipy.org/doc/numpy-1.13.0/reference/routines.statistics.html). Use a **numpy.random** method to generate the sample, and other numpy methods to find the statistics."
      ]
    },
    {
      "cell_type": "code",
      "metadata": {
        "id": "itfIQvtYsQT4"
      },
      "source": [
        "import numpy as np\r\n",
        "\r\n",
        "my_ls = np.random.random(100)\r\n",
        "\r\n",
        "print(\"Smallest value: \", my_ls.min())\r\n",
        "print(\"Largest value: \", my_ls.max())\r\n",
        "print(\"25th, 50th and 75th percentiles: \", np.percentile(my_ls, 25), np.percentile(my_ls, 50), np.percentile(my_ls, 75))"
      ],
      "execution_count": null,
      "outputs": []
    },
    {
      "cell_type": "markdown",
      "metadata": {
        "id": "FFjme_Viu1XB"
      },
      "source": [
        "---\n",
        "(c) Create a numpy array of the integers 1-12. Reshape the array so that it forms a matrix with 3 rows and 4 columns. Now reshape the array so that the order of the numbers goes down the columns rather than across the rows. Finally use array indexing to extract the middle two numbers on the second row.\n",
        "\n",
        "**Hint:** you will need to find out how to use the numpy **reshape()** method and how to create slices of numpy arrays."
      ]
    },
    {
      "cell_type": "code",
      "metadata": {
        "id": "4HUDEJWbvG_2"
      },
      "source": [
        "import numpy as np\r\n",
        "\r\n",
        "nums = np.arange(1,13)\r\n",
        "\r\n",
        "table = np.reshape(nums, (3,4))\r\n",
        "b = table[1, 1:3]\r\n",
        "\r\n",
        "print(table)\r\n",
        "#print(table.T)\r\n",
        "print(b)"
      ],
      "execution_count": null,
      "outputs": []
    },
    {
      "cell_type": "markdown",
      "metadata": {
        "id": "-lXnP-frw2Cf"
      },
      "source": [
        "---\n",
        "(d) Create a vector containing [1,2,3] and another containing [4,5,6]. Add the two vectors together. Multiply the two vectors element wise. Form the [dot product](https://www.mathsisfun.com/algebra/vectors-dot-product.html) of the two vectors.\n",
        "\n",
        "**Hint:** you can form the dot product with a loop or you can use the built-in numpy **dot()** method."
      ]
    },
    {
      "cell_type": "code",
      "metadata": {
        "id": "AisQRSFQzt8u"
      },
      "source": [
        "import numpy as np\r\n",
        "\r\n",
        "c = np.array([1,2,3])\r\n",
        "d = np.array([4,5,6])\r\n",
        "\r\n",
        "print(c)\r\n",
        "print(d)"
      ],
      "execution_count": null,
      "outputs": []
    }
  ]
}