{
  "nbformat": 4,
  "nbformat_minor": 0,
  "metadata": {
    "colab": {
      "name": "ex_01_01_sunflower.ipynb",
      "provenance": [],
      "authorship_tag": "ABX9TyNtRO23Av/ebm39PBM6br44",
      "include_colab_link": true
    },
    "kernelspec": {
      "name": "python3",
      "display_name": "Python 3"
    }
  },
  "cells": [
    {
      "cell_type": "markdown",
      "metadata": {
        "id": "view-in-github",
        "colab_type": "text"
      },
      "source": [
        "<a href=\"https://colab.research.google.com/github/grendelaglaeca/dw_matrix/blob/master/ex_01_01_sunflower.ipynb\" target=\"_parent\"><img src=\"https://colab.research.google.com/assets/colab-badge.svg\" alt=\"Open In Colab\"/></a>"
      ]
    },
    {
      "cell_type": "code",
      "metadata": {
        "colab": {
          "base_uri": "https://localhost:8080/"
        },
        "id": "d9fKeTbRkjvf",
        "outputId": "63169384-1551-4812-9d37-704cfeb99373"
      },
      "source": [
        "import numpy as np\r\n",
        "\r\n",
        "#1\r\n",
        "a = np.array(['hello', 'world'])\r\n",
        "a = np.append(a, '!')\r\n",
        "print('current array: {}'.format(a))\r\n",
        "\r\n",
        "for i, e in enumerate(a):\r\n",
        "  print('Index {} is: {}'.format(i, e))\r\n",
        "\r\n",
        "#2\r\n",
        "b = np.array([0, 1, 4, 3, 2])\r\n",
        "print(\"Max: {}\".format(np.max(b)))\r\n",
        "print(\"Mean: {}\".format(np.average(b)))\r\n",
        "print(\"Max index: {}\".format(np.argmax(b)))\r\n",
        "\r\n",
        "#3\r\n",
        "c = np.random.rand(3,3)\r\n",
        "print(c)\r\n",
        "\r\n",
        "print('Shape of a: {}'.format(a.shape), '\\n'\r\n",
        "      'Shape of b: {}'.format(b.shape), '\\n'\r\n",
        "      'Shape of c: {}.')\r\n",
        "\r\n",
        "\r\n"
      ],
      "execution_count": 27,
      "outputs": [
        {
          "output_type": "stream",
          "text": [
            "current array: ['hello' 'world' '!']\n",
            "Index 0 is: hello\n",
            "Index 1 is: world\n",
            "Index 2 is: !\n",
            "Max: 4\n",
            "Mean: 2.0\n",
            "Max index: 2\n",
            "[[0.43926124 0.05032079 0.81690079]\n",
            " [0.26722192 0.55598037 0.15788548]\n",
            " [0.79091013 0.81590099 0.196629  ]]\n",
            "Shape of a: (3,) \n",
            "Shape of b: (5,)\n"
          ],
          "name": "stdout"
        }
      ]
    },
    {
      "cell_type": "code",
      "metadata": {
        "colab": {
          "base_uri": "https://localhost:8080/"
        },
        "id": "G5cAQvkvsgNI",
        "outputId": "32978617-3c6b-4fa0-a899-113d14ab2591"
      },
      "source": [
        "imie = input(\"Jak masz na imie? \")\r\n",
        "print(\"Hello\", imie)\r\n",
        "\r\n",
        "wiek = input(\"Ile masz lat? \")\r\n",
        "print(\"Masz {} lat? Ale jesteś stara\".format(wiek))\r\n",
        "\r\n",
        "wiek_siostry = input(\"Ile lat ma twoja siostra? \")\r\n",
        "roznica_wieku = int(wiek_siostry) - int(wiek)\r\n",
        "print(\"Twoja siostra jest starsza od ciebie o {} lat\".format(roznica_wieku))"
      ],
      "execution_count": 40,
      "outputs": [
        {
          "output_type": "stream",
          "text": [
            "Jak masz na imie? fgghgf\n",
            "Hello fgghgf\n",
            "Ile masz lat? 10\n",
            "Masz 10 lat? Ale jesteś stara\n",
            "Ile lat ma twoja siostra? 12\n",
            "Twoja siostra jest starsza od ciebie o 2 lat(a)\n"
          ],
          "name": "stdout"
        }
      ]
    },
    {
      "cell_type": "markdown",
      "metadata": {
        "id": "oWGTOPZtr3Zv"
      },
      "source": [
        "**Sunflower**"
      ]
    },
    {
      "cell_type": "code",
      "metadata": {
        "id": "3vgYz_0hr0FV"
      },
      "source": [
        "import numpy as np\r\n",
        "import matplotlib.pyplot as plt\r\n",
        "\r\n",
        "#draw a sunflower head\r\n"
      ],
      "execution_count": null,
      "outputs": []
    }
  ]
}